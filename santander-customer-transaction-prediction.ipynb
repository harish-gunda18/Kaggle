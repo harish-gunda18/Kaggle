{
 "cells": [
  {
   "cell_type": "code",
   "execution_count": 1,
   "metadata": {
    "_cell_guid": "b1076dfc-b9ad-4769-8c92-a6c4dae69d19",
    "_uuid": "8f2839f25d086af736a60e9eeb907d3b93b6e0e5"
   },
   "outputs": [],
   "source": [
    "#importing required packages\n",
    "import numpy as np\n",
    "import pandas as pd"
   ]
  },
  {
   "cell_type": "code",
   "execution_count": 2,
   "metadata": {},
   "outputs": [],
   "source": [
    "#importing data\n",
    "train=r'../input/train.csv'\n",
    "test=r'../input/test.csv'\n",
    "train_df=pd.read_csv(train)\n",
    "test_df=pd.read_csv(test)\n",
    "#dropping 1st two columns to get features\n",
    "X_train=train_df.iloc[:,2:].values\n",
    "Y_train=train_df.iloc[:,1:2].values\n",
    "Y_train=Y_train.ravel()\n",
    "X_rtest=test_df.iloc[:,1:].values"
   ]
  },
  {
   "cell_type": "code",
   "execution_count": 3,
   "metadata": {},
   "outputs": [],
   "source": [
    "#scaling and splitting the training data\n",
    "from sklearn.preprocessing import StandardScaler\n",
    "sc_X = StandardScaler()\n",
    "X_train = sc_X.fit_transform(X_train)\n",
    "X_rtest = sc_X.transform(X_rtest)\n",
    "from sklearn.model_selection import train_test_split\n",
    "X_train, X_test, Y_train, Y_test = train_test_split(X_train, Y_train, test_size=0.2, random_state=42)"
   ]
  },
  {
   "cell_type": "code",
   "execution_count": 4,
   "metadata": {},
   "outputs": [
    {
     "name": "stdout",
     "output_type": "stream",
     "text": [
      "Training until validation scores don't improve for 3000 rounds.\n",
      "[1000]\tvalid_0's binary_logloss: 0.212226\n",
      "[2000]\tvalid_0's binary_logloss: 0.214133\n",
      "[3000]\tvalid_0's binary_logloss: 0.218645\n",
      "[4000]\tvalid_0's binary_logloss: 0.224747\n",
      "Early stopping, best iteration is:\n",
      "[1140]\tvalid_0's binary_logloss: 0.21209\n"
     ]
    },
    {
     "data": {
      "text/plain": [
       "LGBMClassifier(boosting_type='gbdt', class_weight=None, colsample_bytree=1.0,\n",
       "        importance_type='split', learning_rate=0.1, max_depth=-1,\n",
       "        min_child_samples=20, min_child_weight=0.001, min_split_gain=0.0,\n",
       "        n_estimators=100000, n_jobs=-1, num_leaves=13, objective=None,\n",
       "        random_state=None, reg_alpha=0.0, reg_lambda=0.0, silent=True,\n",
       "        subsample=1.0, subsample_for_bin=200000, subsample_freq=0)"
      ]
     },
     "execution_count": 4,
     "metadata": {},
     "output_type": "execute_result"
    }
   ],
   "source": [
    "from lightgbm.sklearn import LGBMClassifier\n",
    "lgbm=LGBMClassifier(n_estimators=100000,num_leaves=13)\n",
    "lgbm.fit(X_train,Y_train,eval_set=(X_test,Y_test),early_stopping_rounds=3000,eval_metric='accuracy',verbose=1000)"
   ]
  },
  {
   "cell_type": "code",
   "execution_count": 5,
   "metadata": {},
   "outputs": [
    {
     "name": "stdout",
     "output_type": "stream",
     "text": [
      "            ID_code    target\n",
      "0            test_0  0.915742\n",
      "1            test_1  0.738682\n",
      "2            test_2  0.799797\n",
      "3            test_3  0.886588\n",
      "4            test_4  0.936492\n",
      "5            test_5  0.998779\n",
      "6            test_6  0.993505\n",
      "7            test_7  0.839279\n",
      "8            test_8  0.998002\n",
      "9            test_9  0.995354\n",
      "10          test_10  0.880907\n",
      "11          test_11  0.967021\n",
      "12          test_12  0.951052\n",
      "13          test_13  0.980809\n",
      "14          test_14  0.992877\n",
      "15          test_15  0.964591\n",
      "16          test_16  0.491173\n",
      "17          test_17  0.974488\n",
      "18          test_18  0.852849\n",
      "19          test_19  0.993756\n",
      "20          test_20  0.652134\n",
      "21          test_21  0.956661\n",
      "22          test_22  0.993983\n",
      "23          test_23  0.984214\n",
      "24          test_24  0.990378\n",
      "25          test_25  0.912214\n",
      "26          test_26  0.905257\n",
      "27          test_27  0.988454\n",
      "28          test_28  0.596492\n",
      "29          test_29  0.956714\n",
      "...             ...       ...\n",
      "199970  test_199970  0.981327\n",
      "199971  test_199971  0.767276\n",
      "199972  test_199972  0.996278\n",
      "199973  test_199973  0.922576\n",
      "199974  test_199974  0.992606\n",
      "199975  test_199975  0.881944\n",
      "199976  test_199976  0.817757\n",
      "199977  test_199977  0.834650\n",
      "199978  test_199978  0.973816\n",
      "199979  test_199979  0.899469\n",
      "199980  test_199980  0.962380\n",
      "199981  test_199981  0.983513\n",
      "199982  test_199982  0.988362\n",
      "199983  test_199983  0.985215\n",
      "199984  test_199984  0.972211\n",
      "199985  test_199985  0.670727\n",
      "199986  test_199986  0.552727\n",
      "199987  test_199987  0.951754\n",
      "199988  test_199988  0.982666\n",
      "199989  test_199989  0.974268\n",
      "199990  test_199990  0.996613\n",
      "199991  test_199991  0.997329\n",
      "199992  test_199992  0.731883\n",
      "199993  test_199993  0.987487\n",
      "199994  test_199994  0.913804\n",
      "199995  test_199995  0.966108\n",
      "199996  test_199996  0.994438\n",
      "199997  test_199997  0.996356\n",
      "199998  test_199998  0.965860\n",
      "199999  test_199999  0.954691\n",
      "\n",
      "[200000 rows x 2 columns]\n"
     ]
    }
   ],
   "source": [
    "#print(X_rtest.shape)\n",
    "Y_pred=lgbm.predict_proba(X_rtest)\n",
    "#Y_pred=np.greater(Y_pred,0.5,dtype=np.float64)\n",
    "p_df=pd.DataFrame(Y_pred)\n",
    "p_df.rename(columns={0:'target'},inplace=True)\n",
    "#p_df['target']=p_df['target'].astype(float)\n",
    "output=pd.DataFrame({'ID_code':test_df['ID_code'],'target':p_df['target']})\n",
    "print(output)\n",
    "output.to_csv('out.csv',index=False)"
   ]
  },
  {
   "cell_type": "code",
   "execution_count": 6,
   "metadata": {},
   "outputs": [],
   "source": []
  },
  {
   "cell_type": "code",
   "execution_count": 6,
   "metadata": {},
   "outputs": [],
   "source": []
  }
 ],
 "metadata": {
  "kernelspec": {
   "display_name": "Python 3",
   "language": "python",
   "name": "python3"
  },
  "language_info": {
   "codemirror_mode": {
    "name": "ipython",
    "version": 3
   },
   "file_extension": ".py",
   "mimetype": "text/x-python",
   "name": "python",
   "nbconvert_exporter": "python",
   "pygments_lexer": "ipython3",
   "version": "3.6.6"
  }
 },
 "nbformat": 4,
 "nbformat_minor": 1
}
